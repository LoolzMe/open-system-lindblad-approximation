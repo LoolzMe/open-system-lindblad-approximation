{
 "cells": [
  {
   "cell_type": "code",
   "execution_count": 6,
   "metadata": {},
   "outputs": [],
   "source": [
    "from sympy.physics import secondquant as sq\n",
    "from sympy import symbols\n",
    "from sympy.physics.quantum import TensorProduct, Dagger, represent, Operator, Ket, Bra\n",
    "from sympy.physics.quantum.density import Density\n",
    "from qutip import basis, tensor, destroy, create\n",
    "import numpy as np\n"
   ]
  },
  {
   "cell_type": "code",
   "execution_count": null,
   "metadata": {},
   "outputs": [
    {
     "ename": "SyntaxError",
     "evalue": "invalid syntax (2753661360.py, line 12)",
     "output_type": "error",
     "traceback": [
      "\u001b[0;36m  Cell \u001b[0;32mIn[15], line 12\u001b[0;36m\u001b[0m\n\u001b[0;31m    jump_operator =\u001b[0m\n\u001b[0m                    ^\u001b[0m\n\u001b[0;31mSyntaxError\u001b[0m\u001b[0;31m:\u001b[0m invalid syntax\n"
     ]
    }
   ],
   "source": [
    "def setup_vacuum_density_m(n: int):\n",
    "    ket_0 = basis(2, 0)\n",
    "    bra_0 = basis(2, 0).dag()\n",
    "    ket_0 = tensor([ket_0 for k in range(n)])\n",
    "    bra_0 = tensor([bra_0 for k in range(n)])\n",
    "\n",
    "    return ket_0 * bra_0\n",
    "\n",
    "\n",
    "initial_density_matrix = setup_vacuum_density_m(3)\n",
    "\n",
    "initial_density_matrix"
   ]
  },
  {
   "cell_type": "code",
   "execution_count": 14,
   "metadata": {},
   "outputs": [
    {
     "name": "stdout",
     "output_type": "stream",
     "text": [
      "|0><0|\n"
     ]
    }
   ],
   "source": []
  },
  {
   "cell_type": "code",
   "execution_count": null,
   "metadata": {},
   "outputs": [],
   "source": [
    "def "
   ]
  }
 ],
 "metadata": {
  "kernelspec": {
   "display_name": ".venv",
   "language": "python",
   "name": "python3"
  },
  "language_info": {
   "codemirror_mode": {
    "name": "ipython",
    "version": 3
   },
   "file_extension": ".py",
   "mimetype": "text/x-python",
   "name": "python",
   "nbconvert_exporter": "python",
   "pygments_lexer": "ipython3",
   "version": "3.10.8"
  }
 },
 "nbformat": 4,
 "nbformat_minor": 2
}
